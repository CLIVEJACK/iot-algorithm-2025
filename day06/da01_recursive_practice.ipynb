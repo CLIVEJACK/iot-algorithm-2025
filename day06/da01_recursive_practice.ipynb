{
 "cells": [
  {
   "cell_type": "markdown",
   "metadata": {},
   "source": [
    "- 재귀호출 연습"
   ]
  },
  {
   "cell_type": "code",
   "execution_count": 1,
   "metadata": {},
   "outputs": [],
   "source": [
    "import time"
   ]
  },
  {
   "cell_type": "markdown",
   "metadata": {},
   "source": [
    "#### 우주선 발사 카운트 다운"
   ]
  },
  {
   "cell_type": "code",
   "execution_count": 3,
   "metadata": {},
   "outputs": [
    {
     "name": "stdout",
     "output_type": "stream",
     "text": [
      "5\n",
      "4\n",
      "3\n",
      "2\n",
      "1\n",
      "발사!\n"
     ]
    }
   ],
   "source": [
    "def countDown(n):\n",
    "    if n == 0:\n",
    "        print('발사!')\n",
    "    else:\n",
    "        print(n)\n",
    "        time.sleep(1)\n",
    "        countDown(n - 1) # 작은 숫자로 재귀호출\n",
    "\n",
    "countDown(5)"
   ]
  },
  {
   "cell_type": "markdown",
   "metadata": {},
   "source": [
    "#### 별모양 출력"
   ]
  },
  {
   "cell_type": "code",
   "execution_count": null,
   "metadata": {},
   "outputs": [
    {
     "name": "stdout",
     "output_type": "stream",
     "text": [
      "★\n",
      "★★\n",
      "★★★\n",
      "★★★★\n",
      "★★★★★\n"
     ]
    }
   ],
   "source": [
    "def printStar(n):\n",
    "    if n > 0:\n",
    "        printStar(n - 1) # 프린트 스타랑 프린트랑 바꾸면 거꾸로 짂힘 \n",
    "        print('★'* n)\n",
    "\n",
    "printStar(5)"
   ]
  },
  {
   "cell_type": "markdown",
   "metadata": {},
   "source": [
    "#### 구구단"
   ]
  },
  {
   "cell_type": "code",
   "execution_count": null,
   "metadata": {},
   "outputs": [],
   "source": [
    "def gugu(dan, num):\n",
    "    print(f'{dan} x {num} = {dan * num :>2d}', end='\\t') ## :>2d 오른쪽 정렬 2만큼\n",
    "    if num < 9:\n",
    "        gugu(dan, num + 1)\n",
    "    \n",
    "\n",
    "for dan in range(2, 10):\n",
    "    print(f'## {dan}단 ##')  # 제목 단 나타네기 \n",
    "    gugu(dan, 1)\n",
    "    print()\n"
   ]
  },
  {
   "cell_type": "markdown",
   "metadata": {},
   "source": [
    "#### N제곱 계산"
   ]
  },
  {
   "cell_type": "code",
   "execution_count": 9,
   "metadata": {},
   "outputs": [
    {
     "data": {
      "text/plain": [
       "1024"
      ]
     },
     "execution_count": 9,
     "metadata": {},
     "output_type": "execute_result"
    }
   ],
   "source": [
    "2 ** 10"
   ]
  },
  {
   "cell_type": "code",
   "execution_count": 10,
   "metadata": {},
   "outputs": [
    {
     "data": {
      "text/plain": [
       "1024.0"
      ]
     },
     "execution_count": 10,
     "metadata": {},
     "output_type": "execute_result"
    }
   ],
   "source": [
    "from math import pow\n",
    "\n",
    "pow(2,10)\n"
   ]
  },
  {
   "cell_type": "code",
   "execution_count": null,
   "metadata": {},
   "outputs": [],
   "source": [
    "## 생략, 해보기"
   ]
  },
  {
   "cell_type": "markdown",
   "metadata": {},
   "source": [
    "#### 배열의 합계산"
   ]
  },
  {
   "cell_type": "code",
   "execution_count": null,
   "metadata": {},
   "outputs": [
    {
     "name": "stdout",
     "output_type": "stream",
     "text": [
      "배열 [34, 24, 13, 68, 92, 82, 97, 68, 57, 1, 24, 37, 51, 71, 71]합계 --> 790\n"
     ]
    }
   ],
   "source": [
    "import random # 한번해보기\n",
    "\n",
    "ary = [random.randint(0, 100)for _ in range(random.randint(10, 20))] # 0~100 까지 랜덤숫자를 10개에서20개까지 뽑음\n",
    "# ary = [i for i in range(1, 11)]\n",
    "#ary\n",
    "\n",
    "def arySum(arr, n):\n",
    "    if n <= 0:\n",
    "        return arr[0]\n",
    "    \n",
    "    return arySum(arr, n -1) + arr[n]\n",
    "\n",
    "print(f'배열 {ary}합계 --> {arySum(ary, len(ary)-1)}')"
   ]
  },
  {
   "cell_type": "markdown",
   "metadata": {},
   "source": [
    "#### 피보나치 수"
   ]
  },
  {
   "cell_type": "code",
   "execution_count": null,
   "metadata": {},
   "outputs": [
    {
     "name": "stdout",
     "output_type": "stream",
     "text": [
      "피보나치 수 ->  0 1 1 2 3 5 8 13 21 34 55 89 144 233 377 610 987 1597 2584 4181 6765 10946 17711 28657 46368 75025 121393 196418 317811 514229 "
     ]
    }
   ],
   "source": [
    "def fibonaci(n):\n",
    "    if n == 0 :\n",
    "        return 0  # 재귀호출을 끝내는 조건\n",
    "    elif n == 1:\n",
    "        return 1  # 재귀호출을 끝내는 조건\n",
    "    else:\n",
    "        return fibonaci(n-1) + fibonaci(n-2)\n",
    "    \n",
    "print('피보나치 수 -> ', end=' ')\n",
    "for i in range(0, 30):  # 1000, 1020 돌려보기  대충 2분해도 안나왔음\n",
    "    print(fibonaci(i), end=' ')"
   ]
  },
  {
   "cell_type": "markdown",
   "metadata": {},
   "source": [
    "### 회문판단"
   ]
  },
  {
   "cell_type": "code",
   "execution_count": null,
   "metadata": {},
   "outputs": [
    {
     "name": "stdout",
     "output_type": "stream",
     "text": [
      "reaver->No\n",
      "kayak->Ok\n",
      "Borrow or rob->Ok\n",
      "주유소의 소유주->Ok\n",
      "아 너 이번주 주 주번이 너야->No\n",
      "발면 발면 발->Ok\n"
     ]
    }
   ],
   "source": [
    "strAry = ['reaver', 'kayak', 'Borrow or rob', '주유소의 소유주', '아 너 이번주 주 주번이 너야', '발면 발면 발']\n",
    "\n",
    "def checkPalindrom(pStr):\n",
    "    if len(pStr) <= 1:\n",
    "        return True\n",
    "    else:\n",
    "        if pStr[0] != pStr[-1]:\n",
    "            return False\n",
    "        else: # 리스트 맨 처음 단어와 맨마지막 단어가 같으면 걔네들은 버린다 \n",
    "            return checkPalindrom(pStr[1:len(pStr)-1])\n",
    "# 시작\n",
    "for testStr in strAry:\n",
    "    print(testStr, end='->')\n",
    "    testStr = testStr.lower().replace(' ', '') # 대문자는 없애주고(lower), 중간 공백도 없앰(replace)\n",
    "\n",
    "    if checkPalindrom(testStr):\n",
    "        print('Ok')\n",
    "    else:\n",
    "        print('No')\n"
   ]
  },
  {
   "cell_type": "markdown",
   "metadata": {},
   "source": [
    "#### 프랙탈"
   ]
  },
  {
   "cell_type": "code",
   "execution_count": null,
   "metadata": {},
   "outputs": [],
   "source": [
    "from tkinter import *\n",
    "\n",
    "root  =Tk()\n",
    "canvas = Canvas(root, width=1000, height=1000, bg='white')\n",
    "canvas.pack()\n",
    "\n",
    "root.mainloop()\n",
    "# 종료시 예외메시지가 계속 출력되는 문제 파이썬으로 이동!"
   ]
  },
  {
   "cell_type": "markdown",
   "metadata": {},
   "source": [
    "#### 재귀호출 쓰는 이유\n",
    "- 반복문만 가지고 구현이 정말 힘들 때 -> 재귀호출 쓰면 한방에 해결\n",
    "- 수학적인 개념으로 접근하면 점화식(재귀식)을 그래로 소스코드로 구현가능"
   ]
  }
 ],
 "metadata": {
  "kernelspec": {
   "display_name": "Python 3",
   "language": "python",
   "name": "python3"
  },
  "language_info": {
   "codemirror_mode": {
    "name": "ipython",
    "version": 3
   },
   "file_extension": ".py",
   "mimetype": "text/x-python",
   "name": "python",
   "nbconvert_exporter": "python",
   "pygments_lexer": "ipython3",
   "version": "3.11.9"
  }
 },
 "nbformat": 4,
 "nbformat_minor": 2
}
